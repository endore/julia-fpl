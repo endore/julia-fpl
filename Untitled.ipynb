{
 "cells": [
  {
   "cell_type": "code",
   "execution_count": 2,
   "metadata": {},
   "outputs": [],
   "source": [
    "import DataFrames, HTTP, JSON"
   ]
  },
  {
   "cell_type": "code",
   "execution_count": 3,
   "metadata": {},
   "outputs": [
    {
     "data": {
      "text/plain": [
       "\"https://fantasy.premierleague.com/api/bootstrap-static/\""
      ]
     },
     "execution_count": 3,
     "metadata": {},
     "output_type": "execute_result"
    }
   ],
   "source": [
    "url = \"https://fantasy.premierleague.com/api/bootstrap-static/\""
   ]
  },
  {
   "cell_type": "code",
   "execution_count": 4,
   "metadata": {},
   "outputs": [
    {
     "name": "stdout",
     "output_type": "stream",
     "text": [
      "200\n"
     ]
    }
   ],
   "source": [
    "req = HTTP.request(\"GET\",url)\n",
    "println(req.status) # aLL good if \"200\""
   ]
  },
  {
   "cell_type": "code",
   "execution_count": 5,
   "metadata": {},
   "outputs": [
    {
     "data": {
      "text/plain": [
       "Dict{String,Any} with 8 entries:\n",
       "  \"events\"        => Any[Dict{String,Any}(\"most_transferred_in\"=>1,\"chip_plays\"…\n",
       "  \"total_players\" => 6374619\n",
       "  \"phases\"        => Any[Dict{String,Any}(\"name\"=>\"Overall\",\"stop_event\"=>38,\"i…\n",
       "  \"element_types\" => Any[Dict{String,Any}(\"squad_select\"=>2,\"plural_name\"=>\"Goa…\n",
       "  \"teams\"         => Any[Dict{String,Any}(\"points\"=>0,\"win\"=>0,\"strength_attack…\n",
       "  \"elements\"      => Any[Dict{String,Any}(\"points_per_game\"=>\"0.0\",\"squad_numbe…\n",
       "  \"game_settings\" => Dict{String,Any}(\"squad_total_spend\"=>1000,\"squad_squadsiz…\n",
       "  \"element_stats\" => Any[Dict{String,Any}(\"label\"=>\"Minutes played\",\"name\"=>\"mi…"
      ]
     },
     "execution_count": 5,
     "metadata": {},
     "output_type": "execute_result"
    }
   ],
   "source": [
    "json = JSON.parse(String(req.body))"
   ]
  },
  {
   "cell_type": "code",
   "execution_count": 6,
   "metadata": {},
   "outputs": [
    {
     "data": {
      "text/plain": [
       "Base.KeySet for a Dict{String,Any} with 8 entries. Keys:\n",
       "  \"events\"\n",
       "  \"total_players\"\n",
       "  \"phases\"\n",
       "  \"element_types\"\n",
       "  \"teams\"\n",
       "  \"elements\"\n",
       "  \"game_settings\"\n",
       "  \"element_stats\""
      ]
     },
     "execution_count": 6,
     "metadata": {},
     "output_type": "execute_result"
    }
   ],
   "source": [
    "keys(json)"
   ]
  },
  {
   "cell_type": "code",
   "execution_count": 7,
   "metadata": {},
   "outputs": [
    {
     "data": {
      "text/plain": [
       "Dict{String,Any} with 21 entries:\n",
       "  \"most_transferred_in\"       => 1\n",
       "  \"chip_plays\"                => Any[Dict{String,Any}(\"num_played\"=>112843,\"chi…\n",
       "  \"highest_scoring_entry\"     => 4761681\n",
       "  \"deadline_time_game_offset\" => 0\n",
       "  \"transfers_made\"            => 0\n",
       "  \"most_vice_captained\"       => 4\n",
       "  \"name\"                      => \"Gameweek 1\"\n",
       "  \"data_checked\"              => true\n",
       "  \"id\"                        => 1\n",
       "  \"is_previous\"               => false\n",
       "  \"top_element\"               => 254\n",
       "  \"deadline_time\"             => \"2020-09-12T10:00:00Z\"\n",
       "  \"finished\"                  => true\n",
       "  \"most_selected\"             => 259\n",
       "  \"most_captained\"            => 4\n",
       "  \"average_entry_score\"       => 50\n",
       "  \"highest_score\"             => 142\n",
       "  \"is_current\"                => true\n",
       "  \"top_element_info\"          => Dict{String,Any}(\"points\"=>20,\"id\"=>254)\n",
       "  \"is_next\"                   => false\n",
       "  \"deadline_time_epoch\"       => 1599904800"
      ]
     },
     "execution_count": 7,
     "metadata": {},
     "output_type": "execute_result"
    }
   ],
   "source": [
    "json[\"events\"][1]"
   ]
  },
  {
   "cell_type": "code",
   "execution_count": 8,
   "metadata": {},
   "outputs": [
    {
     "data": {
      "text/plain": [
       "Dict{String,Any} with 67 entries:\n",
       "  \"points_per_game\"              => \"0.0\"\n",
       "  \"squad_number\"                 => nothing\n",
       "  \"ep_this\"                      => \"3.4\"\n",
       "  \"goals_scored\"                 => 0\n",
       "  \"clean_sheets\"                 => 0\n",
       "  \"influence_rank\"               => 511\n",
       "  \"bonus\"                        => 0\n",
       "  \"transfers_in_event\"           => 832\n",
       "  \"penalties_text\"               => \"\"\n",
       "  \"threat\"                       => \"0.0\"\n",
       "  \"first_name\"                   => \"Mesut\"\n",
       "  \"total_points\"                 => 0\n",
       "  \"event_points\"                 => 0\n",
       "  \"transfers_out_event\"          => 13303\n",
       "  \"ict_index_rank_type\"          => 202\n",
       "  \"selected_by_percent\"          => \"1.1\"\n",
       "  \"web_name\"                     => \"Özil\"\n",
       "  \"element_type\"                 => 3\n",
       "  \"yellow_cards\"                 => 0\n",
       "  \"cost_change_event_fall\"       => 0\n",
       "  \"second_name\"                  => \"Özil\"\n",
       "  \"ict_index_rank\"               => 511\n",
       "  \"influence_rank_type\"          => 202\n",
       "  \"saves\"                        => 0\n",
       "  \"chance_of_playing_this_round\" => nothing\n",
       "  ⋮                              => ⋮"
      ]
     },
     "execution_count": 8,
     "metadata": {},
     "output_type": "execute_result"
    }
   ],
   "source": [
    "json[\"elements\"][1]"
   ]
  },
  {
   "cell_type": "code",
   "execution_count": 9,
   "metadata": {},
   "outputs": [
    {
     "data": {
      "text/plain": [
       "nothing2missing! (generic function with 1 method)"
      ]
     },
     "execution_count": 9,
     "metadata": {},
     "output_type": "execute_result"
    }
   ],
   "source": [
    "function nothing2missing!(row::Dict{String,Any})\n",
    "    for key in keys(row)\n",
    "        if  row[key] == nothing\n",
    "            row[key] = missing\n",
    "        end\n",
    "    end \n",
    "end\n",
    "    "
   ]
  },
  {
   "cell_type": "code",
   "execution_count": 10,
   "metadata": {},
   "outputs": [
    {
     "data": {
      "text/plain": [
       "make_df (generic function with 1 method)"
      ]
     },
     "execution_count": 10,
     "metadata": {},
     "output_type": "execute_result"
    }
   ],
   "source": [
    "function make_df(json_dict)\n",
    "    keys_list = [key for key in keys(json_dict[1])]\n",
    "    new_keys_dict = Dict()\n",
    "    \n",
    "    for key in keys_list\n",
    "       new_keys_dict[key] = [] \n",
    "    end\n",
    "    \n",
    "    for i in eachindex(json_dict) \n",
    "        for key in keys(new_keys_dict)\n",
    "            push!(new_keys_dict[key],json_dict[i][key])\n",
    "        end\n",
    "    end\n",
    "   \n",
    "    df = DataFrames.DataFrame(new_keys_dict)\n",
    "    return(df)\n",
    "end"
   ]
  },
  {
   "cell_type": "code",
   "execution_count": 11,
   "metadata": {},
   "outputs": [
    {
     "data": {
      "text/plain": [
       "Base.KeySet for a Dict{String,Any} with 8 entries. Keys:\n",
       "  \"events\"\n",
       "  \"total_players\"\n",
       "  \"phases\"\n",
       "  \"element_types\"\n",
       "  \"teams\"\n",
       "  \"elements\"\n",
       "  \"game_settings\"\n",
       "  \"element_stats\""
      ]
     },
     "execution_count": 11,
     "metadata": {},
     "output_type": "execute_result"
    }
   ],
   "source": [
    "keys(json)"
   ]
  },
  {
   "cell_type": "code",
   "execution_count": 12,
   "metadata": {},
   "outputs": [
    {
     "data": {
      "text/html": [
       "<table class=\"data-frame\"><thead><tr><th></th><th>label</th><th>name</th></tr><tr><th></th><th>Any</th><th>Any</th></tr></thead><tbody><p>17 rows × 2 columns</p><tr><th>1</th><td>Minutes played</td><td>minutes</td></tr><tr><th>2</th><td>Goals scored</td><td>goals_scored</td></tr><tr><th>3</th><td>Assists</td><td>assists</td></tr><tr><th>4</th><td>Clean sheets</td><td>clean_sheets</td></tr><tr><th>5</th><td>Goals conceded</td><td>goals_conceded</td></tr><tr><th>6</th><td>Own goals</td><td>own_goals</td></tr><tr><th>7</th><td>Penalties saved</td><td>penalties_saved</td></tr><tr><th>8</th><td>Penalties missed</td><td>penalties_missed</td></tr><tr><th>9</th><td>Yellow cards</td><td>yellow_cards</td></tr><tr><th>10</th><td>Red cards</td><td>red_cards</td></tr><tr><th>11</th><td>Saves</td><td>saves</td></tr><tr><th>12</th><td>Bonus</td><td>bonus</td></tr><tr><th>13</th><td>Bonus Points System</td><td>bps</td></tr><tr><th>14</th><td>Influence</td><td>influence</td></tr><tr><th>15</th><td>Creativity</td><td>creativity</td></tr><tr><th>16</th><td>Threat</td><td>threat</td></tr><tr><th>17</th><td>ICT Index</td><td>ict_index</td></tr></tbody></table>"
      ],
      "text/latex": [
       "\\begin{tabular}{r|cc}\n",
       "\t& label & name\\\\\n",
       "\t\\hline\n",
       "\t& Any & Any\\\\\n",
       "\t\\hline\n",
       "\t1 & Minutes played & minutes \\\\\n",
       "\t2 & Goals scored & goals\\_scored \\\\\n",
       "\t3 & Assists & assists \\\\\n",
       "\t4 & Clean sheets & clean\\_sheets \\\\\n",
       "\t5 & Goals conceded & goals\\_conceded \\\\\n",
       "\t6 & Own goals & own\\_goals \\\\\n",
       "\t7 & Penalties saved & penalties\\_saved \\\\\n",
       "\t8 & Penalties missed & penalties\\_missed \\\\\n",
       "\t9 & Yellow cards & yellow\\_cards \\\\\n",
       "\t10 & Red cards & red\\_cards \\\\\n",
       "\t11 & Saves & saves \\\\\n",
       "\t12 & Bonus & bonus \\\\\n",
       "\t13 & Bonus Points System & bps \\\\\n",
       "\t14 & Influence & influence \\\\\n",
       "\t15 & Creativity & creativity \\\\\n",
       "\t16 & Threat & threat \\\\\n",
       "\t17 & ICT Index & ict\\_index \\\\\n",
       "\\end{tabular}\n"
      ],
      "text/plain": [
       "17×2 DataFrame\n",
       "│ Row │ label               │ name             │\n",
       "│     │ \u001b[90mAny\u001b[39m                 │ \u001b[90mAny\u001b[39m              │\n",
       "├─────┼─────────────────────┼──────────────────┤\n",
       "│ 1   │ Minutes played      │ minutes          │\n",
       "│ 2   │ Goals scored        │ goals_scored     │\n",
       "│ 3   │ Assists             │ assists          │\n",
       "│ 4   │ Clean sheets        │ clean_sheets     │\n",
       "│ 5   │ Goals conceded      │ goals_conceded   │\n",
       "│ 6   │ Own goals           │ own_goals        │\n",
       "│ 7   │ Penalties saved     │ penalties_saved  │\n",
       "│ 8   │ Penalties missed    │ penalties_missed │\n",
       "│ 9   │ Yellow cards        │ yellow_cards     │\n",
       "│ 10  │ Red cards           │ red_cards        │\n",
       "│ 11  │ Saves               │ saves            │\n",
       "│ 12  │ Bonus               │ bonus            │\n",
       "│ 13  │ Bonus Points System │ bps              │\n",
       "│ 14  │ Influence           │ influence        │\n",
       "│ 15  │ Creativity          │ creativity       │\n",
       "│ 16  │ Threat              │ threat           │\n",
       "│ 17  │ ICT Index           │ ict_index        │"
      ]
     },
     "execution_count": 12,
     "metadata": {},
     "output_type": "execute_result"
    }
   ],
   "source": [
    "df_dict = Dict()\n",
    "df_dict[\"events\"] = make_df(json[\"events\"])\n",
    "df_dict[\"total_players\"] = make_df(json[\"total_players\"])\n",
    "df_dict[\"phases\"] = make_df(json[\"phases\"])\n",
    "df_dict[\"element_types\"] = make_df(json[\"element_types\"])\n",
    "df_dict[\"teams\"] = make_df(json[\"teams\"])\n",
    "df_dict[\"elements\"] = make_df(json[\"elements\"])\n",
    "#df_dict[\"game_settings\"] = DataFrames.DataFrame(json[\"game_settings\"])\n",
    "df_dict[\"element_stats\"] = make_df(json[\"element_stats\"])"
   ]
  },
  {
   "cell_type": "markdown",
   "metadata": {},
   "source": [
    "# json to dataframe transformation\n",
    "\n",
    "each json dict maps to array{dicts,} per row.. this format is not properly parsed into a dataframe. To do so we need to:\n",
    "convert the elements per row into grouping by columns (using dicts) so that we can push them as rows. Also, we'll need to make sure each column is type Union{Missing, X} where X is either Int64, String, etc."
   ]
  },
  {
   "cell_type": "markdown",
   "metadata": {},
   "source": [
    "# mathematical formulation"
   ]
  },
  {
   "cell_type": "markdown",
   "metadata": {},
   "source": [
    "let $P = p_1,...,p_{N_p}$ be the set of each player in the EPL with a total of $N_p$ players"
   ]
  },
  {
   "cell_type": "markdown",
   "metadata": {},
   "source": [
    "let $T = t_1,...,t_{N_t}$ be the set of each teamns in the EPL with a total of $N_t$ teams."
   ]
  },
  {
   "cell_type": "markdown",
   "metadata": {},
   "source": [
    "let $W = w_1,...,w_{N_w}$ be the set of gameweeks in the EPL with a total of $N_w$ teams."
   ]
  },
  {
   "cell_type": "markdown",
   "metadata": {},
   "source": [
    "let $R$ be the set of roles a player can have: $\\{Defender, Midfielder, Attacker\\}$"
   ]
  },
  {
   "cell_type": "markdown",
   "metadata": {},
   "source": [
    "let $s_{p,w} \\in \\{0,1\\} \\forall p,w$ be the inactive, acive variable for player p on day w\n"
   ]
  },
  {
   "cell_type": "markdown",
   "metadata": {},
   "source": [
    "let $v_{p,w}\\forall p,w$ be the random variable that maps to $\\mathbb{R}$ which represents the fantasy league points earned from player p on day w. for the time being, we will take care of substitions directly within this variable although we could expand the mathetmatical formulation to be clearer in the future."
   ]
  },
  {
   "cell_type": "markdown",
   "metadata": {},
   "source": [
    "let $c_{p,w}\\forall p,w$ be the random variable that maps to $\\mathbb{R}^+$ which represents the fantasy league cost for player p on day w."
   ]
  },
  {
   "cell_type": "markdown",
   "metadata": {},
   "source": [
    "let $m_{w}\\forall w$ be the random variable that maps to $\\mathbb{R}^+$ which represents the fantasy league money available to buy players after the end of week w."
   ]
  },
  {
   "cell_type": "markdown",
   "metadata": {},
   "source": [
    "let $PR_{p,r} = 1$ if player p is classified as role r, 0 otherwise."
   ]
  },
  {
   "cell_type": "markdown",
   "metadata": {},
   "source": [
    "let $PT_{p,t,w} = 1$ if player p is classified as a player of of team t in week w"
   ]
  },
  {
   "cell_type": "markdown",
   "metadata": {},
   "source": [
    "the total points earned on week w can be expressed as:\n",
    "\n",
    "$V_w = \\sum\\limits_{p}s_{p,w}v_{p,w}$ "
   ]
  },
  {
   "cell_type": "markdown",
   "metadata": {},
   "source": [
    "thus, the total points earned over a season is:\n",
    "\n",
    "$V = \\sum\\limits_{w}V_{w}$ "
   ]
  },
  {
   "cell_type": "markdown",
   "metadata": {},
   "source": [
    "We can then set up an optimization problem that maximimes some function of V as a function of the player selections per week. "
   ]
  },
  {
   "cell_type": "markdown",
   "metadata": {},
   "source": [
    "$ \\max\\limits_{s_{p,w}} F(V(s))$"
   ]
  },
  {
   "cell_type": "markdown",
   "metadata": {},
   "source": [
    "with the following constraints:"
   ]
  },
  {
   "cell_type": "markdown",
   "metadata": {},
   "source": [
    "* total of 15 players selected per week\n",
    "\n",
    "$\\sum\\limits_{p} s_{p,w} = 15 \\forall w$"
   ]
  },
  {
   "cell_type": "markdown",
   "metadata": {},
   "source": [
    "* maximum of 3 players per team selected per week\n",
    "\n",
    "$\\sum\\limits_{p}s_{p,w}PT_{p,t,w}\\le3 \\forall t,w$"
   ]
  },
  {
   "cell_type": "markdown",
   "metadata": {},
   "source": [
    "* minimum of 3 defenders selected per week\n",
    "\n",
    "$\\sum\\limits_{p}s_{p,w}PR_{p,d}\\ge 3 \\forall w$"
   ]
  },
  {
   "cell_type": "markdown",
   "metadata": {},
   "source": [
    "* maximum of 5 defenders selected per week\n",
    "\n",
    "$\\sum\\limits_{p}s_{p,w}PR_{p,d}\\le 5 \\forall w$"
   ]
  }
 ],
 "metadata": {
  "@webio": {
   "lastCommId": null,
   "lastKernelId": null
  },
  "kernelspec": {
   "display_name": "Julia 1.4.2",
   "language": "julia",
   "name": "julia-1.4"
  },
  "language_info": {
   "file_extension": ".jl",
   "mimetype": "application/julia",
   "name": "julia",
   "version": "1.4.2"
  }
 },
 "nbformat": 4,
 "nbformat_minor": 4
}
